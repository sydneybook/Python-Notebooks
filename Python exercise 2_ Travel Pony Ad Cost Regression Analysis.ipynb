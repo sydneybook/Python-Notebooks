{
 "cells": [
  {
   "cell_type": "code",
   "execution_count": 0,
   "metadata": {
    "colab": {
     "base_uri": "https://localhost:8080/",
     "height": 262
    },
    "colab_type": "code",
    "executionInfo": {
     "elapsed": 3884,
     "status": "ok",
     "timestamp": 1574279171645,
     "user": {
      "displayName": "Sydney Bookstaver",
      "photoUrl": "",
      "userId": "08078027609552634368"
     },
     "user_tz": 420
    },
    "id": "_ZoXwBpH25oq",
    "outputId": "ce19c62e-24fb-492d-de02-be9617d924f2"
   },
   "outputs": [
    {
     "name": "stdout",
     "output_type": "stream",
     "text": [
      "Collecting arrow\n",
      "\u001b[?25l  Downloading https://files.pythonhosted.org/packages/a1/39/a8e116084cf4160f0821ca9bb84ec312ccca84caa2b2bffb70d95d47f91f/arrow-0.15.4-py2.py3-none-any.whl (45kB)\n",
      "\r",
      "\u001b[K     |███████▎                        | 10kB 19.7MB/s eta 0:00:01\r",
      "\u001b[K     |██████████████▌                 | 20kB 1.7MB/s eta 0:00:01\r",
      "\u001b[K     |█████████████████████▊          | 30kB 2.6MB/s eta 0:00:01\r",
      "\u001b[K     |█████████████████████████████   | 40kB 1.7MB/s eta 0:00:01\r",
      "\u001b[K     |████████████████████████████████| 51kB 1.7MB/s \n",
      "\u001b[?25hCollecting as\n",
      "  Downloading https://files.pythonhosted.org/packages/b4/08/226c133ec497d25a63edb38527c02db093c7d89e6d4cdc91078834486a5d/as-0.1-py3-none-any.whl\n",
      "Requirement already satisfied: python-dateutil in /usr/local/lib/python3.6/dist-packages (from arrow) (2.6.1)\n",
      "Requirement already satisfied: six>=1.5 in /usr/local/lib/python3.6/dist-packages (from python-dateutil->arrow) (1.12.0)\n",
      "Installing collected packages: arrow, as\n",
      "Successfully installed arrow-0.15.4 as-0.1\n"
     ]
    }
   ],
   "source": [
    "import pandas as pd\n",
    "import numpy as np \n",
    "from google.colab import drive\n",
    "!pip install arrow as arrow\n",
    "import arrow as arrow\n",
    "import statsmodels.api as sm\n",
    "\n",
    "drive.mount('/content/drive')"
   ]
  },
  {
   "cell_type": "code",
   "execution_count": 0,
   "metadata": {
    "colab": {
     "base_uri": "https://localhost:8080/",
     "height": 394
    },
    "colab_type": "code",
    "executionInfo": {
     "elapsed": 600,
     "status": "ok",
     "timestamp": 1574279742024,
     "user": {
      "displayName": "Sydney Bookstaver",
      "photoUrl": "",
      "userId": "08078027609552634368"
     },
     "user_tz": 420
    },
    "id": "qA3WGdEW3a6D",
    "outputId": "4d0694e8-520e-4867-f27c-df293e894f5d"
   },
   "outputs": [
    {
     "data": {
      "text/html": [
       "<div>\n",
       "<style scoped>\n",
       "    .dataframe tbody tr th:only-of-type {\n",
       "        vertical-align: middle;\n",
       "    }\n",
       "\n",
       "    .dataframe tbody tr th {\n",
       "        vertical-align: top;\n",
       "    }\n",
       "\n",
       "    .dataframe thead th {\n",
       "        text-align: right;\n",
       "    }\n",
       "</style>\n",
       "<table border=\"1\" class=\"dataframe\">\n",
       "  <thead>\n",
       "    <tr style=\"text-align: right;\">\n",
       "      <th></th>\n",
       "      <th>Start Date</th>\n",
       "      <th>End Date</th>\n",
       "      <th>Account</th>\n",
       "      <th>Campaign Name</th>\n",
       "      <th>Reach</th>\n",
       "      <th>Frequency</th>\n",
       "      <th>Impressions</th>\n",
       "      <th>Clicks</th>\n",
       "      <th>Unique Clicks</th>\n",
       "      <th>Amount Spent (USD)</th>\n",
       "      <th>Page Likes</th>\n",
       "      <th>Page Engagement</th>\n",
       "      <th>Post Engagement</th>\n",
       "      <th>Post Likes</th>\n",
       "      <th>Post Comments</th>\n",
       "      <th>Post Shares</th>\n",
       "      <th>Photo Views</th>\n",
       "      <th>Website Clicks</th>\n",
       "      <th>Cost per Page Like (USD)</th>\n",
       "      <th>Cost per Page Engagement (USD)</th>\n",
       "    </tr>\n",
       "  </thead>\n",
       "  <tbody>\n",
       "    <tr>\n",
       "      <th>0</th>\n",
       "      <td>2013-12-02</td>\n",
       "      <td>2013-12-02</td>\n",
       "      <td>Bob Jackson</td>\n",
       "      <td>Cyber Weekend</td>\n",
       "      <td>278117</td>\n",
       "      <td>2.314303</td>\n",
       "      <td>643647</td>\n",
       "      <td>336</td>\n",
       "      <td>313</td>\n",
       "      <td>300.00</td>\n",
       "      <td>3</td>\n",
       "      <td>246</td>\n",
       "      <td>243</td>\n",
       "      <td>0</td>\n",
       "      <td>0</td>\n",
       "      <td>0</td>\n",
       "      <td>0</td>\n",
       "      <td>243</td>\n",
       "      <td>100.00</td>\n",
       "      <td>1.219512</td>\n",
       "    </tr>\n",
       "    <tr>\n",
       "      <th>1</th>\n",
       "      <td>2013-12-01</td>\n",
       "      <td>2013-12-01</td>\n",
       "      <td>Bob Jackson</td>\n",
       "      <td>Cyber Weekend</td>\n",
       "      <td>221255</td>\n",
       "      <td>2.079090</td>\n",
       "      <td>460009</td>\n",
       "      <td>376</td>\n",
       "      <td>348</td>\n",
       "      <td>300.00</td>\n",
       "      <td>6</td>\n",
       "      <td>215</td>\n",
       "      <td>209</td>\n",
       "      <td>0</td>\n",
       "      <td>0</td>\n",
       "      <td>0</td>\n",
       "      <td>0</td>\n",
       "      <td>209</td>\n",
       "      <td>50.00</td>\n",
       "      <td>1.395349</td>\n",
       "    </tr>\n",
       "    <tr>\n",
       "      <th>2</th>\n",
       "      <td>2013-11-30</td>\n",
       "      <td>2013-11-30</td>\n",
       "      <td>Bob Jackson</td>\n",
       "      <td>Cyber Weekend</td>\n",
       "      <td>267915</td>\n",
       "      <td>2.499069</td>\n",
       "      <td>669538</td>\n",
       "      <td>383</td>\n",
       "      <td>345</td>\n",
       "      <td>300.00</td>\n",
       "      <td>2</td>\n",
       "      <td>252</td>\n",
       "      <td>250</td>\n",
       "      <td>0</td>\n",
       "      <td>0</td>\n",
       "      <td>0</td>\n",
       "      <td>0</td>\n",
       "      <td>250</td>\n",
       "      <td>150.00</td>\n",
       "      <td>1.190476</td>\n",
       "    </tr>\n",
       "    <tr>\n",
       "      <th>3</th>\n",
       "      <td>2013-11-29</td>\n",
       "      <td>2013-11-29</td>\n",
       "      <td>Bob Jackson</td>\n",
       "      <td>Cyber Weekend</td>\n",
       "      <td>280332</td>\n",
       "      <td>2.365406</td>\n",
       "      <td>663099</td>\n",
       "      <td>301</td>\n",
       "      <td>275</td>\n",
       "      <td>300.00</td>\n",
       "      <td>3</td>\n",
       "      <td>257</td>\n",
       "      <td>254</td>\n",
       "      <td>0</td>\n",
       "      <td>0</td>\n",
       "      <td>0</td>\n",
       "      <td>0</td>\n",
       "      <td>254</td>\n",
       "      <td>100.00</td>\n",
       "      <td>1.167315</td>\n",
       "    </tr>\n",
       "    <tr>\n",
       "      <th>4</th>\n",
       "      <td>2013-11-22</td>\n",
       "      <td>2013-11-22</td>\n",
       "      <td>Bob Jackson</td>\n",
       "      <td>TravelPony: General Ads</td>\n",
       "      <td>14269</td>\n",
       "      <td>1.000420</td>\n",
       "      <td>14275</td>\n",
       "      <td>64</td>\n",
       "      <td>61</td>\n",
       "      <td>35.18</td>\n",
       "      <td>2</td>\n",
       "      <td>14</td>\n",
       "      <td>12</td>\n",
       "      <td>0</td>\n",
       "      <td>0</td>\n",
       "      <td>0</td>\n",
       "      <td>0</td>\n",
       "      <td>12</td>\n",
       "      <td>17.59</td>\n",
       "      <td>2.512857</td>\n",
       "    </tr>\n",
       "  </tbody>\n",
       "</table>\n",
       "</div>"
      ],
      "text/plain": [
       "   Start Date  ... Cost per Page Engagement (USD)\n",
       "0  2013-12-02  ...                       1.219512\n",
       "1  2013-12-01  ...                       1.395349\n",
       "2  2013-11-30  ...                       1.190476\n",
       "3  2013-11-29  ...                       1.167315\n",
       "4  2013-11-22  ...                       2.512857\n",
       "\n",
       "[5 rows x 20 columns]"
      ]
     },
     "execution_count": 67,
     "metadata": {
      "tags": []
     },
     "output_type": "execute_result"
    }
   ],
   "source": [
    "csvfile = 'drive/My Drive/Colab Notebooks/Travel Pony Facebook.csv'\n",
    "travelpony = pd.read_csv(csvfile)\n",
    "travelpony.head()"
   ]
  },
  {
   "cell_type": "markdown",
   "metadata": {
    "colab_type": "text",
    "id": "5hbKxwhyM-RB"
   },
   "source": [
    "Remove 0's for amount spent \n"
   ]
  },
  {
   "cell_type": "code",
   "execution_count": 0,
   "metadata": {
    "colab": {},
    "colab_type": "code",
    "id": "bMH6Fuhlv5_P"
   },
   "outputs": [],
   "source": [
    "travelpony=travelpony[travelpony['Amount Spent (USD)']!=0]"
   ]
  },
  {
   "cell_type": "markdown",
   "metadata": {
    "colab_type": "text",
    "id": "8cumhGygNH__"
   },
   "source": [
    "Graph a histogramof Amount Spent using Seaborn "
   ]
  },
  {
   "cell_type": "code",
   "execution_count": 0,
   "metadata": {
    "colab": {
     "base_uri": "https://localhost:8080/",
     "height": 296
    },
    "colab_type": "code",
    "executionInfo": {
     "elapsed": 789,
     "status": "ok",
     "timestamp": 1574279748442,
     "user": {
      "displayName": "Sydney Bookstaver",
      "photoUrl": "",
      "userId": "08078027609552634368"
     },
     "user_tz": 420
    },
    "id": "jM4MLM9gNEl-",
    "outputId": "16e71fde-1835-4244-d35a-849e42fb5780"
   },
   "outputs": [
    {
     "data": {
      "text/plain": [
       "<matplotlib.axes._subplots.AxesSubplot at 0x7fa6c7781978>"
      ]
     },
     "execution_count": 69,
     "metadata": {
      "tags": []
     },
     "output_type": "execute_result"
    },
    {
     "data": {
      "image/png": "[encoded data removed]",
      "text/plain": [
       "<Figure size 432x288 with 1 Axes>"
      ]
     },
     "metadata": {
      "tags": []
     },
     "output_type": "display_data"
    }
   ],
   "source": [
    "import seaborn as sns\n",
    "sns.set_style('darkgrid')\n",
    "sns.distplot(travelpony['Amount Spent (USD)'])"
   ]
  },
  {
   "cell_type": "markdown",
   "metadata": {
    "colab_type": "text",
    "id": "yFb2GxT2Nvar"
   },
   "source": [
    "Create a scatter plot for spend and: reach, frequency, impressions and clicks."
   ]
  },
  {
   "cell_type": "code",
   "execution_count": 0,
   "metadata": {
    "colab": {
     "base_uri": "https://localhost:8080/",
     "height": 296
    },
    "colab_type": "code",
    "executionInfo": {
     "elapsed": 872,
     "status": "ok",
     "timestamp": 1574279751528,
     "user": {
      "displayName": "Sydney Bookstaver",
      "photoUrl": "",
      "userId": "08078027609552634368"
     },
     "user_tz": 420
    },
    "id": "n1Rth-t3N9j3",
    "outputId": "a86476d6-555d-42f6-94b6-4d2a449718cb"
   },
   "outputs": [
    {
     "data": {
      "text/plain": [
       "<matplotlib.axes._subplots.AxesSubplot at 0x7fa6c771aba8>"
      ]
     },
     "execution_count": 70,
     "metadata": {
      "tags": []
     },
     "output_type": "execute_result"
    },
    {
     "data": {
      "image/png": "[encoded data removed]",
      "text/plain": [
       "<Figure size 432x288 with 1 Axes>"
      ]
     },
     "metadata": {
      "tags": []
     },
     "output_type": "display_data"
    }
   ],
   "source": [
    "sns.scatterplot(travelpony['Amount Spent (USD)'],travelpony['Reach'])"
   ]
  },
  {
   "cell_type": "code",
   "execution_count": 0,
   "metadata": {
    "colab": {
     "base_uri": "https://localhost:8080/",
     "height": 296
    },
    "colab_type": "code",
    "executionInfo": {
     "elapsed": 892,
     "status": "ok",
     "timestamp": 1574279753809,
     "user": {
      "displayName": "Sydney Bookstaver",
      "photoUrl": "",
      "userId": "08078027609552634368"
     },
     "user_tz": 420
    },
    "id": "ewstuqpfPJki",
    "outputId": "9cdb4b7c-45b0-438f-cfed-229198a2466b"
   },
   "outputs": [
    {
     "data": {
      "text/plain": [
       "<matplotlib.axes._subplots.AxesSubplot at 0x7fa6c75cc080>"
      ]
     },
     "execution_count": 71,
     "metadata": {
      "tags": []
     },
     "output_type": "execute_result"
    },
    {
     "data": {
      "image/png": "[encoded data removed]",
      "text/plain": [
       "<Figure size 432x288 with 1 Axes>"
      ]
     },
     "metadata": {
      "tags": []
     },
     "output_type": "display_data"
    }
   ],
   "source": [
    "sns.scatterplot(travelpony['Amount Spent (USD)'],travelpony['Frequency'])"
   ]
  },
  {
   "cell_type": "code",
   "execution_count": 0,
   "metadata": {
    "colab": {
     "base_uri": "https://localhost:8080/",
     "height": 299
    },
    "colab_type": "code",
    "executionInfo": {
     "elapsed": 854,
     "status": "ok",
     "timestamp": 1574279756444,
     "user": {
      "displayName": "Sydney Bookstaver",
      "photoUrl": "",
      "userId": "08078027609552634368"
     },
     "user_tz": 420
    },
    "id": "iHOrxlCFPNFP",
    "outputId": "a406b5b4-9598-4037-ea55-7487249ece12"
   },
   "outputs": [
    {
     "data": {
      "text/plain": [
       "<matplotlib.axes._subplots.AxesSubplot at 0x7fa6c7584e48>"
      ]
     },
     "execution_count": 72,
     "metadata": {
      "tags": []
     },
     "output_type": "execute_result"
    },
    {
     "data": {
      "image/png": "[encoded data removed]",
      "text/plain": [
       "<Figure size 432x288 with 1 Axes>"
      ]
     },
     "metadata": {
      "tags": []
     },
     "output_type": "display_data"
    }
   ],
   "source": [
    "sns.scatterplot(travelpony['Amount Spent (USD)'],travelpony['Impressions'])"
   ]
  },
  {
   "cell_type": "code",
   "execution_count": 0,
   "metadata": {
    "colab": {
     "base_uri": "https://localhost:8080/",
     "height": 296
    },
    "colab_type": "code",
    "executionInfo": {
     "elapsed": 924,
     "status": "ok",
     "timestamp": 1574279760241,
     "user": {
      "displayName": "Sydney Bookstaver",
      "photoUrl": "",
      "userId": "08078027609552634368"
     },
     "user_tz": 420
    },
    "id": "YaeOty0_PUR6",
    "outputId": "fbb6cb99-eb2a-4f46-f668-db1c7054ada3"
   },
   "outputs": [
    {
     "data": {
      "text/plain": [
       "<matplotlib.axes._subplots.AxesSubplot at 0x7fa6c750dac8>"
      ]
     },
     "execution_count": 73,
     "metadata": {
      "tags": []
     },
     "output_type": "execute_result"
    },
    {
     "data": {
      "image/png": "[encoded data removed]",
      "text/plain": [
       "<Figure size 432x288 with 1 Axes>"
      ]
     },
     "metadata": {
      "tags": []
     },
     "output_type": "display_data"
    }
   ],
   "source": [
    "sns.scatterplot(travelpony['Amount Spent (USD)'],travelpony['Clicks'])"
   ]
  },
  {
   "cell_type": "markdown",
   "metadata": {
    "colab_type": "text",
    "id": "TMy4mAL7d7Uz"
   },
   "source": [
    "Combined scatterplots below, harder to read. \n"
   ]
  },
  {
   "cell_type": "code",
   "execution_count": 0,
   "metadata": {
    "colab": {
     "base_uri": "https://localhost:8080/",
     "height": 298
    },
    "colab_type": "code",
    "executionInfo": {
     "elapsed": 1052,
     "status": "ok",
     "timestamp": 1574281099127,
     "user": {
      "displayName": "Sydney Bookstaver",
      "photoUrl": "",
      "userId": "08078027609552634368"
     },
     "user_tz": 420
    },
    "id": "I-QFOiKHdpUA",
    "outputId": "0f9bb9d8-3269-4f39-e8b6-fdb2133a1e3f"
   },
   "outputs": [
    {
     "data": {
      "text/plain": [
       "<matplotlib.axes._subplots.AxesSubplot at 0x7fa6c71154a8>"
      ]
     },
     "execution_count": 111,
     "metadata": {
      "tags": []
     },
     "output_type": "execute_result"
    },
    {
     "data": {
      "image/png": "[encoded data removed]",
      "text/plain": [
       "<Figure size 432x288 with 1 Axes>"
      ]
     },
     "metadata": {
      "tags": []
     },
     "output_type": "display_data"
    }
   ],
   "source": [
    "sns.scatterplot(travelpony['Amount Spent (USD)'],travelpony['Reach'])\n",
    "sns.scatterplot(travelpony['Amount Spent (USD)'],travelpony['Frequency'])\n",
    "sns.scatterplot(travelpony['Amount Spent (USD)'],travelpony['Impressions'])\n",
    "sns.scatterplot(travelpony['Amount Spent (USD)'],travelpony['Clicks'])"
   ]
  },
  {
   "cell_type": "code",
   "execution_count": 0,
   "metadata": {
    "colab": {
     "base_uri": "https://localhost:8080/",
     "height": 102
    },
    "colab_type": "code",
    "executionInfo": {
     "elapsed": 815,
     "status": "ok",
     "timestamp": 1574282060588,
     "user": {
      "displayName": "Sydney Bookstaver",
      "photoUrl": "",
      "userId": "08078027609552634368"
     },
     "user_tz": 420
    },
    "id": "xSONod6jhYrv",
    "outputId": "66894e29-4f21-4c73-ca6d-18690ccab84d"
   },
   "outputs": [
    {
     "data": {
      "text/plain": [
       "array(['Cyber Weekend', 'TravelPony: General Ads',\n",
       "       'TravelPony: Conversion Test',\n",
       "       'Post: You need to get some real sun and we are here to',\n",
       "       'Nanigans', 'SimpleMultiFillCampaign', 'http:travelponyClicksUS',\n",
       "       'TravelponyPage LikesUS', 'Ad '], dtype=object)"
      ]
     },
     "execution_count": 112,
     "metadata": {
      "tags": []
     },
     "output_type": "execute_result"
    }
   ],
   "source": [
    "travelpony['Campaign Name'].unique()"
   ]
  },
  {
   "cell_type": "code",
   "execution_count": 0,
   "metadata": {
    "colab": {},
    "colab_type": "code",
    "id": "yjS_UN80Wu8x"
   },
   "outputs": [],
   "source": [
    "travelpony['Campaign Name']= travelpony['Campaign Name'].astype('str')\n",
    "travelpony['Campaign Name']= travelpony['Campaign Name'].str.replace('[^a-zA-Z0-9:\\s+]','')\n",
    "travelpony['Campaign Name']= travelpony['Campaign Name'].str.replace('\\d+','')"
   ]
  },
  {
   "cell_type": "code",
   "execution_count": 0,
   "metadata": {
    "colab": {
     "base_uri": "https://localhost:8080/",
     "height": 530
    },
    "colab_type": "code",
    "executionInfo": {
     "elapsed": 652,
     "status": "ok",
     "timestamp": 1574279862852,
     "user": {
      "displayName": "Sydney Bookstaver",
      "photoUrl": "",
      "userId": "08078027609552634368"
     },
     "user_tz": 420
    },
    "id": "gVtQ8h9gXbSr",
    "outputId": "cb30cfdb-d1ac-41cb-8647-2be9956e9dfc"
   },
   "outputs": [
    {
     "data": {
      "text/html": [
       "<div>\n",
       "<style scoped>\n",
       "    .dataframe tbody tr th:only-of-type {\n",
       "        vertical-align: middle;\n",
       "    }\n",
       "\n",
       "    .dataframe tbody tr th {\n",
       "        vertical-align: top;\n",
       "    }\n",
       "\n",
       "    .dataframe thead th {\n",
       "        text-align: right;\n",
       "    }\n",
       "</style>\n",
       "<table border=\"1\" class=\"dataframe\">\n",
       "  <thead>\n",
       "    <tr style=\"text-align: right;\">\n",
       "      <th></th>\n",
       "      <th>Start Date</th>\n",
       "      <th>End Date</th>\n",
       "      <th>Account</th>\n",
       "      <th>Campaign Name</th>\n",
       "      <th>Reach</th>\n",
       "      <th>Frequency</th>\n",
       "      <th>Impressions</th>\n",
       "      <th>Clicks</th>\n",
       "      <th>Unique Clicks</th>\n",
       "      <th>Amount Spent (USD)</th>\n",
       "      <th>Page Likes</th>\n",
       "      <th>Page Engagement</th>\n",
       "      <th>Post Engagement</th>\n",
       "      <th>Post Likes</th>\n",
       "      <th>Post Comments</th>\n",
       "      <th>Post Shares</th>\n",
       "      <th>Photo Views</th>\n",
       "      <th>Website Clicks</th>\n",
       "      <th>Cost per Page Like (USD)</th>\n",
       "      <th>Cost per Page Engagement (USD)</th>\n",
       "      <th>Ad</th>\n",
       "      <th>Cyber Weekend</th>\n",
       "      <th>Nanigans</th>\n",
       "      <th>Post: You need to get some real sun and we are here to</th>\n",
       "      <th>SimpleMultiFillCampaign</th>\n",
       "      <th>TravelPony: Conversion Test</th>\n",
       "      <th>TravelPony: General Ads</th>\n",
       "      <th>TravelponyPage LikesUS</th>\n",
       "      <th>http:travelponyClicksUS</th>\n",
       "    </tr>\n",
       "  </thead>\n",
       "  <tbody>\n",
       "    <tr>\n",
       "      <th>0</th>\n",
       "      <td>2013-12-02</td>\n",
       "      <td>2013-12-02</td>\n",
       "      <td>Bob Jackson</td>\n",
       "      <td>Cyber Weekend</td>\n",
       "      <td>278117</td>\n",
       "      <td>2.314303</td>\n",
       "      <td>643647</td>\n",
       "      <td>336</td>\n",
       "      <td>313</td>\n",
       "      <td>300.00</td>\n",
       "      <td>3</td>\n",
       "      <td>246</td>\n",
       "      <td>243</td>\n",
       "      <td>0</td>\n",
       "      <td>0</td>\n",
       "      <td>0</td>\n",
       "      <td>0</td>\n",
       "      <td>243</td>\n",
       "      <td>100.00</td>\n",
       "      <td>1.219512</td>\n",
       "      <td>0</td>\n",
       "      <td>1</td>\n",
       "      <td>0</td>\n",
       "      <td>0</td>\n",
       "      <td>0</td>\n",
       "      <td>0</td>\n",
       "      <td>0</td>\n",
       "      <td>0</td>\n",
       "      <td>0</td>\n",
       "    </tr>\n",
       "    <tr>\n",
       "      <th>1</th>\n",
       "      <td>2013-12-01</td>\n",
       "      <td>2013-12-01</td>\n",
       "      <td>Bob Jackson</td>\n",
       "      <td>Cyber Weekend</td>\n",
       "      <td>221255</td>\n",
       "      <td>2.079090</td>\n",
       "      <td>460009</td>\n",
       "      <td>376</td>\n",
       "      <td>348</td>\n",
       "      <td>300.00</td>\n",
       "      <td>6</td>\n",
       "      <td>215</td>\n",
       "      <td>209</td>\n",
       "      <td>0</td>\n",
       "      <td>0</td>\n",
       "      <td>0</td>\n",
       "      <td>0</td>\n",
       "      <td>209</td>\n",
       "      <td>50.00</td>\n",
       "      <td>1.395349</td>\n",
       "      <td>0</td>\n",
       "      <td>1</td>\n",
       "      <td>0</td>\n",
       "      <td>0</td>\n",
       "      <td>0</td>\n",
       "      <td>0</td>\n",
       "      <td>0</td>\n",
       "      <td>0</td>\n",
       "      <td>0</td>\n",
       "    </tr>\n",
       "    <tr>\n",
       "      <th>2</th>\n",
       "      <td>2013-11-30</td>\n",
       "      <td>2013-11-30</td>\n",
       "      <td>Bob Jackson</td>\n",
       "      <td>Cyber Weekend</td>\n",
       "      <td>267915</td>\n",
       "      <td>2.499069</td>\n",
       "      <td>669538</td>\n",
       "      <td>383</td>\n",
       "      <td>345</td>\n",
       "      <td>300.00</td>\n",
       "      <td>2</td>\n",
       "      <td>252</td>\n",
       "      <td>250</td>\n",
       "      <td>0</td>\n",
       "      <td>0</td>\n",
       "      <td>0</td>\n",
       "      <td>0</td>\n",
       "      <td>250</td>\n",
       "      <td>150.00</td>\n",
       "      <td>1.190476</td>\n",
       "      <td>0</td>\n",
       "      <td>1</td>\n",
       "      <td>0</td>\n",
       "      <td>0</td>\n",
       "      <td>0</td>\n",
       "      <td>0</td>\n",
       "      <td>0</td>\n",
       "      <td>0</td>\n",
       "      <td>0</td>\n",
       "    </tr>\n",
       "    <tr>\n",
       "      <th>3</th>\n",
       "      <td>2013-11-29</td>\n",
       "      <td>2013-11-29</td>\n",
       "      <td>Bob Jackson</td>\n",
       "      <td>Cyber Weekend</td>\n",
       "      <td>280332</td>\n",
       "      <td>2.365406</td>\n",
       "      <td>663099</td>\n",
       "      <td>301</td>\n",
       "      <td>275</td>\n",
       "      <td>300.00</td>\n",
       "      <td>3</td>\n",
       "      <td>257</td>\n",
       "      <td>254</td>\n",
       "      <td>0</td>\n",
       "      <td>0</td>\n",
       "      <td>0</td>\n",
       "      <td>0</td>\n",
       "      <td>254</td>\n",
       "      <td>100.00</td>\n",
       "      <td>1.167315</td>\n",
       "      <td>0</td>\n",
       "      <td>1</td>\n",
       "      <td>0</td>\n",
       "      <td>0</td>\n",
       "      <td>0</td>\n",
       "      <td>0</td>\n",
       "      <td>0</td>\n",
       "      <td>0</td>\n",
       "      <td>0</td>\n",
       "    </tr>\n",
       "    <tr>\n",
       "      <th>4</th>\n",
       "      <td>2013-11-22</td>\n",
       "      <td>2013-11-22</td>\n",
       "      <td>Bob Jackson</td>\n",
       "      <td>TravelPony: General Ads</td>\n",
       "      <td>14269</td>\n",
       "      <td>1.000420</td>\n",
       "      <td>14275</td>\n",
       "      <td>64</td>\n",
       "      <td>61</td>\n",
       "      <td>35.18</td>\n",
       "      <td>2</td>\n",
       "      <td>14</td>\n",
       "      <td>12</td>\n",
       "      <td>0</td>\n",
       "      <td>0</td>\n",
       "      <td>0</td>\n",
       "      <td>0</td>\n",
       "      <td>12</td>\n",
       "      <td>17.59</td>\n",
       "      <td>2.512857</td>\n",
       "      <td>0</td>\n",
       "      <td>0</td>\n",
       "      <td>0</td>\n",
       "      <td>0</td>\n",
       "      <td>0</td>\n",
       "      <td>0</td>\n",
       "      <td>1</td>\n",
       "      <td>0</td>\n",
       "      <td>0</td>\n",
       "    </tr>\n",
       "  </tbody>\n",
       "</table>\n",
       "</div>"
      ],
      "text/plain": [
       "   Start Date    End Date  ... TravelponyPage LikesUS http:travelponyClicksUS\n",
       "0  2013-12-02  2013-12-02  ...                      0                       0\n",
       "1  2013-12-01  2013-12-01  ...                      0                       0\n",
       "2  2013-11-30  2013-11-30  ...                      0                       0\n",
       "3  2013-11-29  2013-11-29  ...                      0                       0\n",
       "4  2013-11-22  2013-11-22  ...                      0                       0\n",
       "\n",
       "[5 rows x 29 columns]"
      ]
     },
     "execution_count": 77,
     "metadata": {
      "tags": []
     },
     "output_type": "execute_result"
    }
   ],
   "source": [
    "pd.get_dummies(travelpony['Campaign Name'])\n",
    "travelpony = pd.concat([travelpony,pd.get_dummies(travelpony['Campaign Name'])],axis=1)\n",
    "travelpony.head()"
   ]
  },
  {
   "cell_type": "markdown",
   "metadata": {
    "colab_type": "text",
    "id": "Lphqm6EYP-s2"
   },
   "source": [
    "Build a multiple regression with an outcome variable of Amount Spent and predictor variables: Campaign Name, Reach, Frequency, Impressions, Clicks, Unique Clicks, Page Likes, Page Engagement, Post Engagement, Post Likes, Post Comments, Post Shares, Photo Views, Website Clicks"
   ]
  },
  {
   "cell_type": "code",
   "execution_count": 0,
   "metadata": {
    "colab": {
     "base_uri": "https://localhost:8080/",
     "height": 898
    },
    "colab_type": "code",
    "executionInfo": {
     "elapsed": 610,
     "status": "ok",
     "timestamp": 1574280527953,
     "user": {
      "displayName": "Sydney Bookstaver",
      "photoUrl": "",
      "userId": "08078027609552634368"
     },
     "user_tz": 420
    },
    "id": "-iV__5QbSesM",
    "outputId": "7c1b87a3-75ef-4cf1-916f-92e383fcf6b8"
   },
   "outputs": [
    {
     "data": {
      "text/html": [
       "<table class=\"simpletable\">\n",
       "<caption>OLS Regression Results</caption>\n",
       "<tr>\n",
       "  <th>Dep. Variable:</th>    <td>Amount Spent (USD)</td> <th>  R-squared:         </th> <td>   0.935</td> \n",
       "</tr>\n",
       "<tr>\n",
       "  <th>Model:</th>                    <td>OLS</td>        <th>  Adj. R-squared:    </th> <td>   0.934</td> \n",
       "</tr>\n",
       "<tr>\n",
       "  <th>Method:</th>              <td>Least Squares</td>   <th>  F-statistic:       </th> <td>   1282.</td> \n",
       "</tr>\n",
       "<tr>\n",
       "  <th>Date:</th>              <td>Wed, 20 Nov 2019</td>  <th>  Prob (F-statistic):</th>  <td>  0.00</td>  \n",
       "</tr>\n",
       "<tr>\n",
       "  <th>Time:</th>                  <td>20:08:47</td>      <th>  Log-Likelihood:    </th> <td> -6484.6</td> \n",
       "</tr>\n",
       "<tr>\n",
       "  <th>No. Observations:</th>       <td>  1802</td>       <th>  AIC:               </th> <td>1.301e+04</td>\n",
       "</tr>\n",
       "<tr>\n",
       "  <th>Df Residuals:</th>           <td>  1781</td>       <th>  BIC:               </th> <td>1.313e+04</td>\n",
       "</tr>\n",
       "<tr>\n",
       "  <th>Df Model:</th>               <td>    20</td>       <th>                     </th>     <td> </td>    \n",
       "</tr>\n",
       "<tr>\n",
       "  <th>Covariance Type:</th>       <td>nonrobust</td>     <th>                     </th>     <td> </td>    \n",
       "</tr>\n",
       "</table>\n",
       "<table class=\"simpletable\">\n",
       "<tr>\n",
       "                             <td></td>                               <th>coef</th>     <th>std err</th>      <th>t</th>      <th>P>|t|</th>  <th>[0.025</th>    <th>0.975]</th>  \n",
       "</tr>\n",
       "<tr>\n",
       "  <th>Ad </th>                                                    <td>   -8.7199</td> <td>    4.648</td> <td>   -1.876</td> <td> 0.061</td> <td>  -17.836</td> <td>    0.396</td>\n",
       "</tr>\n",
       "<tr>\n",
       "  <th>Cyber Weekend</th>                                          <td> -210.0978</td> <td>   26.172</td> <td>   -8.028</td> <td> 0.000</td> <td> -261.429</td> <td> -158.766</td>\n",
       "</tr>\n",
       "<tr>\n",
       "  <th>Nanigans</th>                                               <td>  -11.1471</td> <td>    3.438</td> <td>   -3.242</td> <td> 0.001</td> <td>  -17.891</td> <td>   -4.403</td>\n",
       "</tr>\n",
       "<tr>\n",
       "  <th>Post: You need to get some real sun and we are here to</th> <td>  -25.4838</td> <td>    7.772</td> <td>   -3.279</td> <td> 0.001</td> <td>  -40.726</td> <td>  -10.241</td>\n",
       "</tr>\n",
       "<tr>\n",
       "  <th>SimpleMultiFillCampaign</th>                                <td>   -8.8824</td> <td>    3.374</td> <td>   -2.632</td> <td> 0.009</td> <td>  -15.500</td> <td>   -2.265</td>\n",
       "</tr>\n",
       "<tr>\n",
       "  <th>TravelPony: Conversion Test</th>                            <td>   45.4009</td> <td>    5.816</td> <td>    7.806</td> <td> 0.000</td> <td>   33.993</td> <td>   56.808</td>\n",
       "</tr>\n",
       "<tr>\n",
       "  <th>TravelPony: General Ads</th>                                <td>  -34.0630</td> <td>    6.690</td> <td>   -5.091</td> <td> 0.000</td> <td>  -47.185</td> <td>  -20.941</td>\n",
       "</tr>\n",
       "<tr>\n",
       "  <th>TravelponyPage LikesUS</th>                                 <td>  -15.2335</td> <td>    5.554</td> <td>   -2.743</td> <td> 0.006</td> <td>  -26.127</td> <td>   -4.340</td>\n",
       "</tr>\n",
       "<tr>\n",
       "  <th>http:travelponyClicksUS</th>                                <td>  -26.2998</td> <td>   11.525</td> <td>   -2.282</td> <td> 0.023</td> <td>  -48.904</td> <td>   -3.695</td>\n",
       "</tr>\n",
       "<tr>\n",
       "  <th>Reach</th>                                                  <td>    0.0031</td> <td>    0.000</td> <td>   20.623</td> <td> 0.000</td> <td>    0.003</td> <td>    0.003</td>\n",
       "</tr>\n",
       "<tr>\n",
       "  <th>Frequency</th>                                              <td>    8.0177</td> <td>    3.337</td> <td>    2.403</td> <td> 0.016</td> <td>    1.474</td> <td>   14.562</td>\n",
       "</tr>\n",
       "<tr>\n",
       "  <th>Impressions</th>                                            <td>   -0.0008</td> <td> 8.08e-05</td> <td>   -9.964</td> <td> 0.000</td> <td>   -0.001</td> <td>   -0.001</td>\n",
       "</tr>\n",
       "<tr>\n",
       "  <th>Clicks</th>                                                 <td>   -0.3369</td> <td>    0.110</td> <td>   -3.073</td> <td> 0.002</td> <td>   -0.552</td> <td>   -0.122</td>\n",
       "</tr>\n",
       "<tr>\n",
       "  <th>Unique Clicks</th>                                          <td>    0.5557</td> <td>    0.122</td> <td>    4.569</td> <td> 0.000</td> <td>    0.317</td> <td>    0.794</td>\n",
       "</tr>\n",
       "<tr>\n",
       "  <th>Page Likes</th>                                             <td>   23.2839</td> <td>    8.919</td> <td>    2.611</td> <td> 0.009</td> <td>    5.791</td> <td>   40.777</td>\n",
       "</tr>\n",
       "<tr>\n",
       "  <th>Page Engagement</th>                                        <td>  -20.1012</td> <td>    8.916</td> <td>   -2.255</td> <td> 0.024</td> <td>  -37.588</td> <td>   -2.615</td>\n",
       "</tr>\n",
       "<tr>\n",
       "  <th>Post Engagement</th>                                        <td>   17.1443</td> <td>    7.431</td> <td>    2.307</td> <td> 0.021</td> <td>    2.571</td> <td>   31.718</td>\n",
       "</tr>\n",
       "<tr>\n",
       "  <th>Post Likes</th>                                             <td>    2.3301</td> <td>    1.491</td> <td>    1.563</td> <td> 0.118</td> <td>   -0.594</td> <td>    5.254</td>\n",
       "</tr>\n",
       "<tr>\n",
       "  <th>Post Comments</th>                                          <td>    3.5094</td> <td>    1.551</td> <td>    2.263</td> <td> 0.024</td> <td>    0.468</td> <td>    6.551</td>\n",
       "</tr>\n",
       "<tr>\n",
       "  <th>Post Shares</th>                                            <td>    4.8389</td> <td>    1.513</td> <td>    3.198</td> <td> 0.001</td> <td>    1.871</td> <td>    7.807</td>\n",
       "</tr>\n",
       "<tr>\n",
       "  <th>Photo Views</th>                                            <td>    3.1375</td> <td>    1.489</td> <td>    2.107</td> <td> 0.035</td> <td>    0.217</td> <td>    6.058</td>\n",
       "</tr>\n",
       "<tr>\n",
       "  <th>Website Clicks</th>                                         <td>    3.3284</td> <td>    1.489</td> <td>    2.235</td> <td> 0.026</td> <td>    0.408</td> <td>    6.249</td>\n",
       "</tr>\n",
       "</table>\n",
       "<table class=\"simpletable\">\n",
       "<tr>\n",
       "  <th>Omnibus:</th>       <td>734.641</td> <th>  Durbin-Watson:     </th> <td>   1.690</td> \n",
       "</tr>\n",
       "<tr>\n",
       "  <th>Prob(Omnibus):</th> <td> 0.000</td>  <th>  Jarque-Bera (JB):  </th> <td>20578.497</td>\n",
       "</tr>\n",
       "<tr>\n",
       "  <th>Skew:</th>          <td> 1.310</td>  <th>  Prob(JB):          </th> <td>    0.00</td> \n",
       "</tr>\n",
       "<tr>\n",
       "  <th>Kurtosis:</th>      <td>19.347</td>  <th>  Cond. No.          </th> <td>3.42e+18</td> \n",
       "</tr>\n",
       "</table><br/><br/>Warnings:<br/>[1] Standard Errors assume that the covariance matrix of the errors is correctly specified.<br/>[2] The smallest eigenvalue is 1.65e-25. This might indicate that there are<br/>strong multicollinearity problems or that the design matrix is singular."
      ],
      "text/plain": [
       "<class 'statsmodels.iolib.summary.Summary'>\n",
       "\"\"\"\n",
       "                            OLS Regression Results                            \n",
       "==============================================================================\n",
       "Dep. Variable:     Amount Spent (USD)   R-squared:                       0.935\n",
       "Model:                            OLS   Adj. R-squared:                  0.934\n",
       "Method:                 Least Squares   F-statistic:                     1282.\n",
       "Date:                Wed, 20 Nov 2019   Prob (F-statistic):               0.00\n",
       "Time:                        20:08:47   Log-Likelihood:                -6484.6\n",
       "No. Observations:                1802   AIC:                         1.301e+04\n",
       "Df Residuals:                    1781   BIC:                         1.313e+04\n",
       "Df Model:                          20                                         \n",
       "Covariance Type:            nonrobust                                         \n",
       "==========================================================================================================================\n",
       "                                                             coef    std err          t      P>|t|      [0.025      0.975]\n",
       "--------------------------------------------------------------------------------------------------------------------------\n",
       "Ad                                                        -8.7199      4.648     -1.876      0.061     -17.836       0.396\n",
       "Cyber Weekend                                           -210.0978     26.172     -8.028      0.000    -261.429    -158.766\n",
       "Nanigans                                                 -11.1471      3.438     -3.242      0.001     -17.891      -4.403\n",
       "Post: You need to get some real sun and we are here to   -25.4838      7.772     -3.279      0.001     -40.726     -10.241\n",
       "SimpleMultiFillCampaign                                   -8.8824      3.374     -2.632      0.009     -15.500      -2.265\n",
       "TravelPony: Conversion Test                               45.4009      5.816      7.806      0.000      33.993      56.808\n",
       "TravelPony: General Ads                                  -34.0630      6.690     -5.091      0.000     -47.185     -20.941\n",
       "TravelponyPage LikesUS                                   -15.2335      5.554     -2.743      0.006     -26.127      -4.340\n",
       "http:travelponyClicksUS                                  -26.2998     11.525     -2.282      0.023     -48.904      -3.695\n",
       "Reach                                                      0.0031      0.000     20.623      0.000       0.003       0.003\n",
       "Frequency                                                  8.0177      3.337      2.403      0.016       1.474      14.562\n",
       "Impressions                                               -0.0008   8.08e-05     -9.964      0.000      -0.001      -0.001\n",
       "Clicks                                                    -0.3369      0.110     -3.073      0.002      -0.552      -0.122\n",
       "Unique Clicks                                              0.5557      0.122      4.569      0.000       0.317       0.794\n",
       "Page Likes                                                23.2839      8.919      2.611      0.009       5.791      40.777\n",
       "Page Engagement                                          -20.1012      8.916     -2.255      0.024     -37.588      -2.615\n",
       "Post Engagement                                           17.1443      7.431      2.307      0.021       2.571      31.718\n",
       "Post Likes                                                 2.3301      1.491      1.563      0.118      -0.594       5.254\n",
       "Post Comments                                              3.5094      1.551      2.263      0.024       0.468       6.551\n",
       "Post Shares                                                4.8389      1.513      3.198      0.001       1.871       7.807\n",
       "Photo Views                                                3.1375      1.489      2.107      0.035       0.217       6.058\n",
       "Website Clicks                                             3.3284      1.489      2.235      0.026       0.408       6.249\n",
       "==============================================================================\n",
       "Omnibus:                      734.641   Durbin-Watson:                   1.690\n",
       "Prob(Omnibus):                  0.000   Jarque-Bera (JB):            20578.497\n",
       "Skew:                           1.310   Prob(JB):                         0.00\n",
       "Kurtosis:                      19.347   Cond. No.                     3.42e+18\n",
       "==============================================================================\n",
       "\n",
       "Warnings:\n",
       "[1] Standard Errors assume that the covariance matrix of the errors is correctly specified.\n",
       "[2] The smallest eigenvalue is 1.65e-25. This might indicate that there are\n",
       "strong multicollinearity problems or that the design matrix is singular.\n",
       "\"\"\""
      ]
     },
     "execution_count": 108,
     "metadata": {
      "tags": []
     },
     "output_type": "execute_result"
    }
   ],
   "source": [
    "y = travelpony['Amount Spent (USD)']\n",
    "x = travelpony[['Ad ','Cyber Weekend','Nanigans','Post: You need to get some real sun and we are here to','SimpleMultiFillCampaign','TravelPony: Conversion Test','TravelPony: General Ads','TravelponyPage LikesUS','http:travelponyClicksUS','Reach','Frequency','Impressions','Clicks','Unique Clicks','Page Likes','Page Engagement','Post Engagement','Post Likes','Post Comments','Post Shares','Photo Views','Website Clicks']]\n",
    "model = sm.OLS(y,x.astype(float)).fit()\n",
    "predictions=model.predict(x)\n",
    "model.summary()"
   ]
  },
  {
   "cell_type": "markdown",
   "metadata": {
    "colab_type": "text",
    "id": "x5kzPgNyb7Cz"
   },
   "source": [
    "Looking at the coefficents of the predictor variables, TravelPony: Conversion Test, Page Like, and Post Engagement have the highest coefficent, respectively."
   ]
  }
 ],
 "metadata": {
  "colab": {
   "collapsed_sections": [],
   "name": "Python exercise 2: Travel Pony Ad Cost Regression Analysis",
   "provenance": []
  },
  "kernelspec": {
   "display_name": "Python 3",
   "language": "python",
   "name": "python3"
  },
  "language_info": {
   "codemirror_mode": {
    "name": "ipython",
    "version": 3
   },
   "file_extension": ".py",
   "mimetype": "text/x-python",
   "name": "python",
   "nbconvert_exporter": "python",
   "pygments_lexer": "ipython3",
   "version": "3.7.3"
  }
 },
 "nbformat": 4,
 "nbformat_minor": 1
}
